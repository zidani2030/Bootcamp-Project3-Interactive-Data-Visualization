{
 "cells": [
  {
   "cell_type": "code",
   "execution_count": 1,
   "id": "73c4a51a-506c-411f-b7fc-039fef83ffa5",
   "metadata": {},
   "outputs": [],
   "source": [
    "import pandas as pd\n",
    "import numpy as np\n",
    "import matplotlib.pyplot as plt\n",
    "import seaborn as sns\n",
    "import plotly.express as px"
   ]
  },
  {
   "cell_type": "code",
   "execution_count": 3,
   "id": "e32800d1-9d38-420c-852b-9dd713d17036",
   "metadata": {},
   "outputs": [
    {
     "name": "stderr",
     "output_type": "stream",
     "text": [
      "C:\\Users\\محمد الزيداني\\AppData\\Local\\Temp\\ipykernel_7616\\2272620438.py:1: DtypeWarning: Columns (16) have mixed types. Specify dtype option on import or set low_memory=False.\n",
      "  df = pd.read_csv('RiyadhVillasAqar.csv')\n"
     ]
    }
   ],
   "source": [
    "df = pd.read_csv('RiyadhVillasAqar.csv')"
   ]
  },
  {
   "cell_type": "code",
   "execution_count": 4,
   "id": "f87802b3-0b55-4dfa-a827-bcd6568196b7",
   "metadata": {},
   "outputs": [
    {
     "data": {
      "text/html": [
       "<div>\n",
       "<style scoped>\n",
       "    .dataframe tbody tr th:only-of-type {\n",
       "        vertical-align: middle;\n",
       "    }\n",
       "\n",
       "    .dataframe tbody tr th {\n",
       "        vertical-align: top;\n",
       "    }\n",
       "\n",
       "    .dataframe thead th {\n",
       "        text-align: right;\n",
       "    }\n",
       "</style>\n",
       "<table border=\"1\" class=\"dataframe\">\n",
       "  <thead>\n",
       "    <tr style=\"text-align: right;\">\n",
       "      <th></th>\n",
       "      <th>Unnamed: 0</th>\n",
       "      <th>front</th>\n",
       "      <th>rooms</th>\n",
       "      <th>lounges</th>\n",
       "      <th>bathrooms</th>\n",
       "      <th>streetWidth</th>\n",
       "      <th>stairs</th>\n",
       "      <th>propertyAge</th>\n",
       "      <th>driverRoom</th>\n",
       "      <th>tent</th>\n",
       "      <th>...</th>\n",
       "      <th>apartments</th>\n",
       "      <th>maidRoom</th>\n",
       "      <th>elevator</th>\n",
       "      <th>furnihsed</th>\n",
       "      <th>pool</th>\n",
       "      <th>basement</th>\n",
       "      <th>neighbourhood</th>\n",
       "      <th>location</th>\n",
       "      <th>price</th>\n",
       "      <th>square price</th>\n",
       "    </tr>\n",
       "  </thead>\n",
       "  <tbody>\n",
       "    <tr>\n",
       "      <th>0</th>\n",
       "      <td>0</td>\n",
       "      <td>شرقية</td>\n",
       "      <td>5</td>\n",
       "      <td>4.0</td>\n",
       "      <td>5+</td>\n",
       "      <td>20.0</td>\n",
       "      <td>1.0</td>\n",
       "      <td>0.0</td>\n",
       "      <td>1.0</td>\n",
       "      <td>1.0</td>\n",
       "      <td>...</td>\n",
       "      <td>0</td>\n",
       "      <td>0.0</td>\n",
       "      <td>0.0</td>\n",
       "      <td>0.0</td>\n",
       "      <td>0.0</td>\n",
       "      <td>0.0</td>\n",
       "      <td>عكاظ</td>\n",
       "      <td>جنوب الرياض</td>\n",
       "      <td>1050000.0</td>\n",
       "      <td>3500.000000</td>\n",
       "    </tr>\n",
       "    <tr>\n",
       "      <th>1</th>\n",
       "      <td>1</td>\n",
       "      <td>غربية</td>\n",
       "      <td>4</td>\n",
       "      <td>3.0</td>\n",
       "      <td>5+</td>\n",
       "      <td>20.0</td>\n",
       "      <td>1.0</td>\n",
       "      <td>0.0</td>\n",
       "      <td>1.0</td>\n",
       "      <td>1.0</td>\n",
       "      <td>...</td>\n",
       "      <td>2.0</td>\n",
       "      <td>1.0</td>\n",
       "      <td>1.0</td>\n",
       "      <td>0.0</td>\n",
       "      <td>0.0</td>\n",
       "      <td>0.0</td>\n",
       "      <td>المهدية</td>\n",
       "      <td>غرب الرياض</td>\n",
       "      <td>3000000.0</td>\n",
       "      <td>5555.555556</td>\n",
       "    </tr>\n",
       "    <tr>\n",
       "      <th>2</th>\n",
       "      <td>2</td>\n",
       "      <td>جنوبية شرقية</td>\n",
       "      <td>7</td>\n",
       "      <td>2.0</td>\n",
       "      <td>5+</td>\n",
       "      <td>15.0</td>\n",
       "      <td>1.0</td>\n",
       "      <td>31.0</td>\n",
       "      <td>1.0</td>\n",
       "      <td>0.0</td>\n",
       "      <td>...</td>\n",
       "      <td>0</td>\n",
       "      <td>1.0</td>\n",
       "      <td>0.0</td>\n",
       "      <td>0.0</td>\n",
       "      <td>0.0</td>\n",
       "      <td>0.0</td>\n",
       "      <td>الشفا</td>\n",
       "      <td>جنوب الرياض</td>\n",
       "      <td>2000000.0</td>\n",
       "      <td>2285.714286</td>\n",
       "    </tr>\n",
       "    <tr>\n",
       "      <th>3</th>\n",
       "      <td>3</td>\n",
       "      <td>غربية</td>\n",
       "      <td>7</td>\n",
       "      <td>3.0</td>\n",
       "      <td>5+</td>\n",
       "      <td>15.0</td>\n",
       "      <td>1.0</td>\n",
       "      <td>3.0</td>\n",
       "      <td>0.0</td>\n",
       "      <td>1.0</td>\n",
       "      <td>...</td>\n",
       "      <td>0</td>\n",
       "      <td>1.0</td>\n",
       "      <td>0.0</td>\n",
       "      <td>1.0</td>\n",
       "      <td>0.0</td>\n",
       "      <td>0.0</td>\n",
       "      <td>ظهرة لبن</td>\n",
       "      <td>غرب الرياض</td>\n",
       "      <td>894000.0</td>\n",
       "      <td>4470.000000</td>\n",
       "    </tr>\n",
       "    <tr>\n",
       "      <th>4</th>\n",
       "      <td>4</td>\n",
       "      <td>شمالية</td>\n",
       "      <td>4</td>\n",
       "      <td>2.0</td>\n",
       "      <td>4</td>\n",
       "      <td>25.0</td>\n",
       "      <td>1.0</td>\n",
       "      <td>0.0</td>\n",
       "      <td>1.0</td>\n",
       "      <td>1.0</td>\n",
       "      <td>...</td>\n",
       "      <td>3.0</td>\n",
       "      <td>1.0</td>\n",
       "      <td>1.0</td>\n",
       "      <td>1.0</td>\n",
       "      <td>0.0</td>\n",
       "      <td>0.0</td>\n",
       "      <td>قرطبة</td>\n",
       "      <td>شرق الرياض</td>\n",
       "      <td>3500000.0</td>\n",
       "      <td>8750.000000</td>\n",
       "    </tr>\n",
       "    <tr>\n",
       "      <th>...</th>\n",
       "      <td>...</td>\n",
       "      <td>...</td>\n",
       "      <td>...</td>\n",
       "      <td>...</td>\n",
       "      <td>...</td>\n",
       "      <td>...</td>\n",
       "      <td>...</td>\n",
       "      <td>...</td>\n",
       "      <td>...</td>\n",
       "      <td>...</td>\n",
       "      <td>...</td>\n",
       "      <td>...</td>\n",
       "      <td>...</td>\n",
       "      <td>...</td>\n",
       "      <td>...</td>\n",
       "      <td>...</td>\n",
       "      <td>...</td>\n",
       "      <td>...</td>\n",
       "      <td>...</td>\n",
       "      <td>...</td>\n",
       "      <td>...</td>\n",
       "    </tr>\n",
       "    <tr>\n",
       "      <th>46821</th>\n",
       "      <td>51840</td>\n",
       "      <td>جنوبية</td>\n",
       "      <td>5</td>\n",
       "      <td>2</td>\n",
       "      <td>5+</td>\n",
       "      <td>20.0</td>\n",
       "      <td>1.0</td>\n",
       "      <td>0.0</td>\n",
       "      <td>0.0</td>\n",
       "      <td>1.0</td>\n",
       "      <td>...</td>\n",
       "      <td>1.0</td>\n",
       "      <td>1.0</td>\n",
       "      <td>1.0</td>\n",
       "      <td>0.0</td>\n",
       "      <td>0.0</td>\n",
       "      <td>0.0</td>\n",
       "      <td>المونسية</td>\n",
       "      <td>شرق الرياض</td>\n",
       "      <td>2250000.0</td>\n",
       "      <td>5844.155844</td>\n",
       "    </tr>\n",
       "    <tr>\n",
       "      <th>46822</th>\n",
       "      <td>51841</td>\n",
       "      <td>غربية</td>\n",
       "      <td>7</td>\n",
       "      <td>2</td>\n",
       "      <td>5+</td>\n",
       "      <td>12.0</td>\n",
       "      <td>1.0</td>\n",
       "      <td>0.0</td>\n",
       "      <td>0.0</td>\n",
       "      <td>1.0</td>\n",
       "      <td>...</td>\n",
       "      <td>0.0</td>\n",
       "      <td>1.0</td>\n",
       "      <td>0.0</td>\n",
       "      <td>0.0</td>\n",
       "      <td>0.0</td>\n",
       "      <td>0.0</td>\n",
       "      <td>ظهرة البديعة</td>\n",
       "      <td>غرب الرياض</td>\n",
       "      <td>1050000.0</td>\n",
       "      <td>2100.000000</td>\n",
       "    </tr>\n",
       "    <tr>\n",
       "      <th>46823</th>\n",
       "      <td>51842</td>\n",
       "      <td>غربية</td>\n",
       "      <td>5</td>\n",
       "      <td>3</td>\n",
       "      <td>5+</td>\n",
       "      <td>20.0</td>\n",
       "      <td>0.0</td>\n",
       "      <td>0.0</td>\n",
       "      <td>0.0</td>\n",
       "      <td>1.0</td>\n",
       "      <td>...</td>\n",
       "      <td>0.0</td>\n",
       "      <td>1.0</td>\n",
       "      <td>0.0</td>\n",
       "      <td>0.0</td>\n",
       "      <td>0.0</td>\n",
       "      <td>0.0</td>\n",
       "      <td>طويق</td>\n",
       "      <td>غرب الرياض</td>\n",
       "      <td>1000000.0</td>\n",
       "      <td>5000.000000</td>\n",
       "    </tr>\n",
       "    <tr>\n",
       "      <th>46824</th>\n",
       "      <td>51843</td>\n",
       "      <td>جنوبية غربية</td>\n",
       "      <td>1</td>\n",
       "      <td>NaN</td>\n",
       "      <td>1</td>\n",
       "      <td>15.0</td>\n",
       "      <td>0.0</td>\n",
       "      <td>0.0</td>\n",
       "      <td>0.0</td>\n",
       "      <td>0.0</td>\n",
       "      <td>...</td>\n",
       "      <td>2.0</td>\n",
       "      <td>0.0</td>\n",
       "      <td>0.0</td>\n",
       "      <td>0.0</td>\n",
       "      <td>0.0</td>\n",
       "      <td>0.0</td>\n",
       "      <td>النهضة</td>\n",
       "      <td>شرق الرياض</td>\n",
       "      <td>2300000.0</td>\n",
       "      <td>5679.012346</td>\n",
       "    </tr>\n",
       "    <tr>\n",
       "      <th>46825</th>\n",
       "      <td>51844</td>\n",
       "      <td>شمالية</td>\n",
       "      <td>6</td>\n",
       "      <td>2</td>\n",
       "      <td>5+</td>\n",
       "      <td>15.0</td>\n",
       "      <td>1.0</td>\n",
       "      <td>0.0</td>\n",
       "      <td>0.0</td>\n",
       "      <td>1.0</td>\n",
       "      <td>...</td>\n",
       "      <td>2.0</td>\n",
       "      <td>1.0</td>\n",
       "      <td>0.0</td>\n",
       "      <td>0.0</td>\n",
       "      <td>0.0</td>\n",
       "      <td>0.0</td>\n",
       "      <td>المونسية</td>\n",
       "      <td>شرق الرياض</td>\n",
       "      <td>4100000.0</td>\n",
       "      <td>5466.666667</td>\n",
       "    </tr>\n",
       "  </tbody>\n",
       "</table>\n",
       "<p>46826 rows × 26 columns</p>\n",
       "</div>"
      ],
      "text/plain": [
       "       Unnamed: 0         front  rooms lounges bathrooms  streetWidth  stairs  \\\n",
       "0               0         شرقية      5     4.0        5+         20.0     1.0   \n",
       "1               1         غربية      4     3.0        5+         20.0     1.0   \n",
       "2               2  جنوبية شرقية      7     2.0        5+         15.0     1.0   \n",
       "3               3         غربية      7     3.0        5+         15.0     1.0   \n",
       "4               4        شمالية      4     2.0         4         25.0     1.0   \n",
       "...           ...           ...    ...     ...       ...          ...     ...   \n",
       "46821       51840        جنوبية      5       2        5+         20.0     1.0   \n",
       "46822       51841         غربية      7       2        5+         12.0     1.0   \n",
       "46823       51842         غربية      5       3        5+         20.0     0.0   \n",
       "46824       51843  جنوبية غربية      1     NaN         1         15.0     0.0   \n",
       "46825       51844        شمالية      6       2        5+         15.0     1.0   \n",
       "\n",
       "       propertyAge  driverRoom  tent  ...  apartments  maidRoom  elevator  \\\n",
       "0              0.0         1.0   1.0  ...           0       0.0       0.0   \n",
       "1              0.0         1.0   1.0  ...         2.0       1.0       1.0   \n",
       "2             31.0         1.0   0.0  ...           0       1.0       0.0   \n",
       "3              3.0         0.0   1.0  ...           0       1.0       0.0   \n",
       "4              0.0         1.0   1.0  ...         3.0       1.0       1.0   \n",
       "...            ...         ...   ...  ...         ...       ...       ...   \n",
       "46821          0.0         0.0   1.0  ...         1.0       1.0       1.0   \n",
       "46822          0.0         0.0   1.0  ...         0.0       1.0       0.0   \n",
       "46823          0.0         0.0   1.0  ...         0.0       1.0       0.0   \n",
       "46824          0.0         0.0   0.0  ...         2.0       0.0       0.0   \n",
       "46825          0.0         0.0   1.0  ...         2.0       1.0       0.0   \n",
       "\n",
       "       furnihsed  pool  basement   neighbourhood     location      price  \\\n",
       "0            0.0   0.0       0.0           عكاظ   جنوب الرياض  1050000.0   \n",
       "1            0.0   0.0       0.0        المهدية    غرب الرياض  3000000.0   \n",
       "2            0.0   0.0       0.0          الشفا   جنوب الرياض  2000000.0   \n",
       "3            1.0   0.0       0.0       ظهرة لبن    غرب الرياض   894000.0   \n",
       "4            1.0   0.0       0.0          قرطبة    شرق الرياض  3500000.0   \n",
       "...          ...   ...       ...             ...          ...        ...   \n",
       "46821        0.0   0.0       0.0       المونسية    شرق الرياض  2250000.0   \n",
       "46822        0.0   0.0       0.0   ظهرة البديعة    غرب الرياض  1050000.0   \n",
       "46823        0.0   0.0       0.0           طويق    غرب الرياض  1000000.0   \n",
       "46824        0.0   0.0       0.0         النهضة    شرق الرياض  2300000.0   \n",
       "46825        0.0   0.0       0.0       المونسية    شرق الرياض  4100000.0   \n",
       "\n",
       "       square price  \n",
       "0       3500.000000  \n",
       "1       5555.555556  \n",
       "2       2285.714286  \n",
       "3       4470.000000  \n",
       "4       8750.000000  \n",
       "...             ...  \n",
       "46821   5844.155844  \n",
       "46822   2100.000000  \n",
       "46823   5000.000000  \n",
       "46824   5679.012346  \n",
       "46825   5466.666667  \n",
       "\n",
       "[46826 rows x 26 columns]"
      ]
     },
     "execution_count": 4,
     "metadata": {},
     "output_type": "execute_result"
    }
   ],
   "source": [
    "df"
   ]
  },
  {
   "cell_type": "code",
   "execution_count": 5,
   "id": "400354fd-3180-4946-be2b-f7f384ffcf27",
   "metadata": {},
   "outputs": [
    {
     "data": {
      "text/plain": [
       "(46826, 26)"
      ]
     },
     "execution_count": 5,
     "metadata": {},
     "output_type": "execute_result"
    }
   ],
   "source": [
    "df.shape"
   ]
  },
  {
   "cell_type": "code",
   "execution_count": 6,
   "id": "3c758c04-73ac-49ec-a336-3dcf8b3e8a6b",
   "metadata": {},
   "outputs": [
    {
     "data": {
      "text/plain": [
       "Unnamed: 0         int64\n",
       "front             object\n",
       "rooms              int64\n",
       "lounges           object\n",
       "bathrooms         object\n",
       "streetWidth      float64\n",
       "stairs           float64\n",
       "propertyAge      float64\n",
       "driverRoom       float64\n",
       "tent             float64\n",
       "patio            float64\n",
       "kitchen          float64\n",
       "outdoorRoom      float64\n",
       "garage           float64\n",
       "duplex           float64\n",
       "space              int64\n",
       "apartments        object\n",
       "maidRoom         float64\n",
       "elevator         float64\n",
       "furnihsed        float64\n",
       "pool             float64\n",
       "basement         float64\n",
       "neighbourhood     object\n",
       "location          object\n",
       "price            float64\n",
       "square price     float64\n",
       "dtype: object"
      ]
     },
     "execution_count": 6,
     "metadata": {},
     "output_type": "execute_result"
    }
   ],
   "source": [
    "df.dtypes"
   ]
  },
  {
   "cell_type": "code",
   "execution_count": 8,
   "id": "e97858fa-6572-46e1-aad8-cd2383347950",
   "metadata": {},
   "outputs": [
    {
     "data": {
      "text/html": [
       "<div>\n",
       "<style scoped>\n",
       "    .dataframe tbody tr th:only-of-type {\n",
       "        vertical-align: middle;\n",
       "    }\n",
       "\n",
       "    .dataframe tbody tr th {\n",
       "        vertical-align: top;\n",
       "    }\n",
       "\n",
       "    .dataframe thead th {\n",
       "        text-align: right;\n",
       "    }\n",
       "</style>\n",
       "<table border=\"1\" class=\"dataframe\">\n",
       "  <thead>\n",
       "    <tr style=\"text-align: right;\">\n",
       "      <th></th>\n",
       "      <th>Unnamed: 0</th>\n",
       "      <th>rooms</th>\n",
       "      <th>streetWidth</th>\n",
       "      <th>stairs</th>\n",
       "      <th>propertyAge</th>\n",
       "      <th>driverRoom</th>\n",
       "      <th>tent</th>\n",
       "      <th>patio</th>\n",
       "      <th>kitchen</th>\n",
       "      <th>outdoorRoom</th>\n",
       "      <th>garage</th>\n",
       "      <th>duplex</th>\n",
       "      <th>space</th>\n",
       "      <th>maidRoom</th>\n",
       "      <th>elevator</th>\n",
       "      <th>furnihsed</th>\n",
       "      <th>pool</th>\n",
       "      <th>basement</th>\n",
       "      <th>price</th>\n",
       "      <th>square price</th>\n",
       "    </tr>\n",
       "  </thead>\n",
       "  <tbody>\n",
       "    <tr>\n",
       "      <th>count</th>\n",
       "      <td>46826.000000</td>\n",
       "      <td>46826.000000</td>\n",
       "      <td>46636.000000</td>\n",
       "      <td>46826.000000</td>\n",
       "      <td>46826.000000</td>\n",
       "      <td>46826.000000</td>\n",
       "      <td>46826.000000</td>\n",
       "      <td>46826.000000</td>\n",
       "      <td>46826.000000</td>\n",
       "      <td>46826.000000</td>\n",
       "      <td>46826.000000</td>\n",
       "      <td>46826.000000</td>\n",
       "      <td>46826.000000</td>\n",
       "      <td>46826.000000</td>\n",
       "      <td>46826.000000</td>\n",
       "      <td>46826.000000</td>\n",
       "      <td>46826.000000</td>\n",
       "      <td>46826.000000</td>\n",
       "      <td>4.682400e+04</td>\n",
       "      <td>46824.000000</td>\n",
       "    </tr>\n",
       "    <tr>\n",
       "      <th>mean</th>\n",
       "      <td>25915.132384</td>\n",
       "      <td>4.687439</td>\n",
       "      <td>18.158418</td>\n",
       "      <td>0.683979</td>\n",
       "      <td>2.454790</td>\n",
       "      <td>0.355871</td>\n",
       "      <td>0.466258</td>\n",
       "      <td>0.769380</td>\n",
       "      <td>0.979114</td>\n",
       "      <td>0.645112</td>\n",
       "      <td>0.907872</td>\n",
       "      <td>0.297698</td>\n",
       "      <td>380.021740</td>\n",
       "      <td>0.767821</td>\n",
       "      <td>0.235745</td>\n",
       "      <td>0.078738</td>\n",
       "      <td>0.116410</td>\n",
       "      <td>0.037671</td>\n",
       "      <td>2.347636e+06</td>\n",
       "      <td>6088.058800</td>\n",
       "    </tr>\n",
       "    <tr>\n",
       "      <th>std</th>\n",
       "      <td>14993.821359</td>\n",
       "      <td>1.104970</td>\n",
       "      <td>4.167866</td>\n",
       "      <td>0.464926</td>\n",
       "      <td>6.496833</td>\n",
       "      <td>0.478781</td>\n",
       "      <td>0.498866</td>\n",
       "      <td>0.421234</td>\n",
       "      <td>0.143004</td>\n",
       "      <td>0.478485</td>\n",
       "      <td>0.289210</td>\n",
       "      <td>0.457251</td>\n",
       "      <td>281.431272</td>\n",
       "      <td>0.422227</td>\n",
       "      <td>0.424468</td>\n",
       "      <td>0.269333</td>\n",
       "      <td>0.320719</td>\n",
       "      <td>0.190402</td>\n",
       "      <td>2.782053e+06</td>\n",
       "      <td>4515.845244</td>\n",
       "    </tr>\n",
       "    <tr>\n",
       "      <th>min</th>\n",
       "      <td>0.000000</td>\n",
       "      <td>1.000000</td>\n",
       "      <td>1.000000</td>\n",
       "      <td>0.000000</td>\n",
       "      <td>0.000000</td>\n",
       "      <td>0.000000</td>\n",
       "      <td>0.000000</td>\n",
       "      <td>0.000000</td>\n",
       "      <td>0.000000</td>\n",
       "      <td>0.000000</td>\n",
       "      <td>0.000000</td>\n",
       "      <td>0.000000</td>\n",
       "      <td>50.000000</td>\n",
       "      <td>0.000000</td>\n",
       "      <td>0.000000</td>\n",
       "      <td>0.000000</td>\n",
       "      <td>0.000000</td>\n",
       "      <td>0.000000</td>\n",
       "      <td>1.080000e+03</td>\n",
       "      <td>3.428571</td>\n",
       "    </tr>\n",
       "    <tr>\n",
       "      <th>25%</th>\n",
       "      <td>12925.250000</td>\n",
       "      <td>4.000000</td>\n",
       "      <td>15.000000</td>\n",
       "      <td>0.000000</td>\n",
       "      <td>0.000000</td>\n",
       "      <td>0.000000</td>\n",
       "      <td>0.000000</td>\n",
       "      <td>1.000000</td>\n",
       "      <td>1.000000</td>\n",
       "      <td>0.000000</td>\n",
       "      <td>1.000000</td>\n",
       "      <td>0.000000</td>\n",
       "      <td>270.000000</td>\n",
       "      <td>1.000000</td>\n",
       "      <td>0.000000</td>\n",
       "      <td>0.000000</td>\n",
       "      <td>0.000000</td>\n",
       "      <td>0.000000</td>\n",
       "      <td>1.180000e+06</td>\n",
       "      <td>3866.666667</td>\n",
       "    </tr>\n",
       "    <tr>\n",
       "      <th>50%</th>\n",
       "      <td>25836.500000</td>\n",
       "      <td>5.000000</td>\n",
       "      <td>20.000000</td>\n",
       "      <td>1.000000</td>\n",
       "      <td>0.000000</td>\n",
       "      <td>0.000000</td>\n",
       "      <td>0.000000</td>\n",
       "      <td>1.000000</td>\n",
       "      <td>1.000000</td>\n",
       "      <td>1.000000</td>\n",
       "      <td>1.000000</td>\n",
       "      <td>0.000000</td>\n",
       "      <td>312.000000</td>\n",
       "      <td>1.000000</td>\n",
       "      <td>0.000000</td>\n",
       "      <td>0.000000</td>\n",
       "      <td>0.000000</td>\n",
       "      <td>0.000000</td>\n",
       "      <td>1.600000e+06</td>\n",
       "      <td>5000.000000</td>\n",
       "    </tr>\n",
       "    <tr>\n",
       "      <th>75%</th>\n",
       "      <td>38917.750000</td>\n",
       "      <td>5.000000</td>\n",
       "      <td>20.000000</td>\n",
       "      <td>1.000000</td>\n",
       "      <td>0.000000</td>\n",
       "      <td>1.000000</td>\n",
       "      <td>1.000000</td>\n",
       "      <td>1.000000</td>\n",
       "      <td>1.000000</td>\n",
       "      <td>1.000000</td>\n",
       "      <td>1.000000</td>\n",
       "      <td>1.000000</td>\n",
       "      <td>400.000000</td>\n",
       "      <td>1.000000</td>\n",
       "      <td>0.000000</td>\n",
       "      <td>0.000000</td>\n",
       "      <td>0.000000</td>\n",
       "      <td>0.000000</td>\n",
       "      <td>2.600000e+06</td>\n",
       "      <td>7600.000000</td>\n",
       "    </tr>\n",
       "    <tr>\n",
       "      <th>max</th>\n",
       "      <td>51844.000000</td>\n",
       "      <td>7.000000</td>\n",
       "      <td>100.000000</td>\n",
       "      <td>1.000000</td>\n",
       "      <td>35.000000</td>\n",
       "      <td>1.000000</td>\n",
       "      <td>1.000000</td>\n",
       "      <td>1.000000</td>\n",
       "      <td>1.000000</td>\n",
       "      <td>1.000000</td>\n",
       "      <td>1.000000</td>\n",
       "      <td>1.000000</td>\n",
       "      <td>10000.000000</td>\n",
       "      <td>1.000000</td>\n",
       "      <td>1.000000</td>\n",
       "      <td>1.000000</td>\n",
       "      <td>1.000000</td>\n",
       "      <td>1.000000</td>\n",
       "      <td>1.000000e+08</td>\n",
       "      <td>136144.578313</td>\n",
       "    </tr>\n",
       "  </tbody>\n",
       "</table>\n",
       "</div>"
      ],
      "text/plain": [
       "         Unnamed: 0         rooms   streetWidth        stairs   propertyAge  \\\n",
       "count  46826.000000  46826.000000  46636.000000  46826.000000  46826.000000   \n",
       "mean   25915.132384      4.687439     18.158418      0.683979      2.454790   \n",
       "std    14993.821359      1.104970      4.167866      0.464926      6.496833   \n",
       "min        0.000000      1.000000      1.000000      0.000000      0.000000   \n",
       "25%    12925.250000      4.000000     15.000000      0.000000      0.000000   \n",
       "50%    25836.500000      5.000000     20.000000      1.000000      0.000000   \n",
       "75%    38917.750000      5.000000     20.000000      1.000000      0.000000   \n",
       "max    51844.000000      7.000000    100.000000      1.000000     35.000000   \n",
       "\n",
       "         driverRoom          tent         patio       kitchen   outdoorRoom  \\\n",
       "count  46826.000000  46826.000000  46826.000000  46826.000000  46826.000000   \n",
       "mean       0.355871      0.466258      0.769380      0.979114      0.645112   \n",
       "std        0.478781      0.498866      0.421234      0.143004      0.478485   \n",
       "min        0.000000      0.000000      0.000000      0.000000      0.000000   \n",
       "25%        0.000000      0.000000      1.000000      1.000000      0.000000   \n",
       "50%        0.000000      0.000000      1.000000      1.000000      1.000000   \n",
       "75%        1.000000      1.000000      1.000000      1.000000      1.000000   \n",
       "max        1.000000      1.000000      1.000000      1.000000      1.000000   \n",
       "\n",
       "             garage        duplex         space      maidRoom      elevator  \\\n",
       "count  46826.000000  46826.000000  46826.000000  46826.000000  46826.000000   \n",
       "mean       0.907872      0.297698    380.021740      0.767821      0.235745   \n",
       "std        0.289210      0.457251    281.431272      0.422227      0.424468   \n",
       "min        0.000000      0.000000     50.000000      0.000000      0.000000   \n",
       "25%        1.000000      0.000000    270.000000      1.000000      0.000000   \n",
       "50%        1.000000      0.000000    312.000000      1.000000      0.000000   \n",
       "75%        1.000000      1.000000    400.000000      1.000000      0.000000   \n",
       "max        1.000000      1.000000  10000.000000      1.000000      1.000000   \n",
       "\n",
       "          furnihsed          pool      basement         price   square price  \n",
       "count  46826.000000  46826.000000  46826.000000  4.682400e+04   46824.000000  \n",
       "mean       0.078738      0.116410      0.037671  2.347636e+06    6088.058800  \n",
       "std        0.269333      0.320719      0.190402  2.782053e+06    4515.845244  \n",
       "min        0.000000      0.000000      0.000000  1.080000e+03       3.428571  \n",
       "25%        0.000000      0.000000      0.000000  1.180000e+06    3866.666667  \n",
       "50%        0.000000      0.000000      0.000000  1.600000e+06    5000.000000  \n",
       "75%        0.000000      0.000000      0.000000  2.600000e+06    7600.000000  \n",
       "max        1.000000      1.000000      1.000000  1.000000e+08  136144.578313  "
      ]
     },
     "execution_count": 8,
     "metadata": {},
     "output_type": "execute_result"
    }
   ],
   "source": [
    "df.describe()"
   ]
  },
  {
   "cell_type": "code",
   "execution_count": 9,
   "id": "247700b5-aa99-4953-bf96-4f55a03aba21",
   "metadata": {},
   "outputs": [
    {
     "data": {
      "text/plain": [
       "bathrooms\n",
       "5    32371\n",
       "4     8781\n",
       "3     4123\n",
       "2     1227\n",
       "1      324\n",
       "Name: count, dtype: int64"
      ]
     },
     "execution_count": 9,
     "metadata": {},
     "output_type": "execute_result"
    }
   ],
   "source": [
    "replace=lambda x:str(x).replace('+','')\n",
    "df['bathrooms']=df['bathrooms'].apply(replace).astype(int)\n",
    "df['bathrooms'].value_counts()"
   ]
  },
  {
   "cell_type": "code",
   "execution_count": 10,
   "id": "64b77e60-94e1-4a2c-a62e-7ca4ce7c08cb",
   "metadata": {},
   "outputs": [
    {
     "data": {
      "text/plain": [
       "apartments\n",
       "0.0     26809\n",
       "1.0      9373\n",
       "2.0      8435\n",
       "3.0      1703\n",
       "4.0       411\n",
       "5.0        29\n",
       "6.0        12\n",
       "8.0         9\n",
       "7.0         7\n",
       "10.0        7\n",
       "12.0        6\n",
       "15.0        5\n",
       "11.0        4\n",
       "30.0        4\n",
       "13.0        3\n",
       "14.0        3\n",
       "23.0        2\n",
       "20.0        2\n",
       "9.0         1\n",
       "16.0        1\n",
       "Name: count, dtype: int64"
      ]
     },
     "execution_count": 10,
     "metadata": {},
     "output_type": "execute_result"
    }
   ],
   "source": [
    "replace=lambda x:str(x).replace('+','')\n",
    "df['apartments']=df['apartments'].apply(replace).astype(float)\n",
    "df['apartments'].value_counts()"
   ]
  },
  {
   "cell_type": "code",
   "execution_count": 14,
   "id": "a5abd44b-8f99-4c99-9814-4cc45739d8b9",
   "metadata": {},
   "outputs": [
    {
     "data": {
      "text/plain": [
       "lounges\n",
       "2.0    19719\n",
       "3.0    12992\n",
       "1.0     7996\n",
       "4.0     2832\n",
       "5.0     2156\n",
       "7.0       13\n",
       "Name: count, dtype: int64"
      ]
     },
     "execution_count": 14,
     "metadata": {},
     "output_type": "execute_result"
    }
   ],
   "source": [
    "replace=lambda x:str(x).replace('+','')\n",
    "df['lounges']=df['lounges'].apply(replace).astype(float)\n",
    "df['lounges'].value_counts()"
   ]
  },
  {
   "cell_type": "code",
   "execution_count": 15,
   "id": "f2163923-89fd-4f1e-b827-9c403e92b11a",
   "metadata": {},
   "outputs": [],
   "source": [
    "df.drop(df.columns[0],axis=1,inplace=True)"
   ]
  },
  {
   "cell_type": "code",
   "execution_count": 16,
   "id": "682516dd-b5a5-47e6-80cd-f37e9c1a7dcb",
   "metadata": {},
   "outputs": [
    {
     "data": {
      "text/html": [
       "<div>\n",
       "<style scoped>\n",
       "    .dataframe tbody tr th:only-of-type {\n",
       "        vertical-align: middle;\n",
       "    }\n",
       "\n",
       "    .dataframe tbody tr th {\n",
       "        vertical-align: top;\n",
       "    }\n",
       "\n",
       "    .dataframe thead th {\n",
       "        text-align: right;\n",
       "    }\n",
       "</style>\n",
       "<table border=\"1\" class=\"dataframe\">\n",
       "  <thead>\n",
       "    <tr style=\"text-align: right;\">\n",
       "      <th></th>\n",
       "      <th>front</th>\n",
       "      <th>rooms</th>\n",
       "      <th>lounges</th>\n",
       "      <th>bathrooms</th>\n",
       "      <th>streetWidth</th>\n",
       "      <th>stairs</th>\n",
       "      <th>propertyAge</th>\n",
       "      <th>driverRoom</th>\n",
       "      <th>tent</th>\n",
       "      <th>patio</th>\n",
       "      <th>...</th>\n",
       "      <th>apartments</th>\n",
       "      <th>maidRoom</th>\n",
       "      <th>elevator</th>\n",
       "      <th>furnihsed</th>\n",
       "      <th>pool</th>\n",
       "      <th>basement</th>\n",
       "      <th>neighbourhood</th>\n",
       "      <th>location</th>\n",
       "      <th>price</th>\n",
       "      <th>square price</th>\n",
       "    </tr>\n",
       "  </thead>\n",
       "  <tbody>\n",
       "    <tr>\n",
       "      <th>0</th>\n",
       "      <td>شرقية</td>\n",
       "      <td>5</td>\n",
       "      <td>4.0</td>\n",
       "      <td>5</td>\n",
       "      <td>20.0</td>\n",
       "      <td>1.0</td>\n",
       "      <td>0.0</td>\n",
       "      <td>1.0</td>\n",
       "      <td>1.0</td>\n",
       "      <td>1.0</td>\n",
       "      <td>...</td>\n",
       "      <td>0.0</td>\n",
       "      <td>0.0</td>\n",
       "      <td>0.0</td>\n",
       "      <td>0.0</td>\n",
       "      <td>0.0</td>\n",
       "      <td>0.0</td>\n",
       "      <td>عكاظ</td>\n",
       "      <td>جنوب الرياض</td>\n",
       "      <td>1050000.0</td>\n",
       "      <td>3500.000000</td>\n",
       "    </tr>\n",
       "    <tr>\n",
       "      <th>1</th>\n",
       "      <td>غربية</td>\n",
       "      <td>4</td>\n",
       "      <td>3.0</td>\n",
       "      <td>5</td>\n",
       "      <td>20.0</td>\n",
       "      <td>1.0</td>\n",
       "      <td>0.0</td>\n",
       "      <td>1.0</td>\n",
       "      <td>1.0</td>\n",
       "      <td>1.0</td>\n",
       "      <td>...</td>\n",
       "      <td>2.0</td>\n",
       "      <td>1.0</td>\n",
       "      <td>1.0</td>\n",
       "      <td>0.0</td>\n",
       "      <td>0.0</td>\n",
       "      <td>0.0</td>\n",
       "      <td>المهدية</td>\n",
       "      <td>غرب الرياض</td>\n",
       "      <td>3000000.0</td>\n",
       "      <td>5555.555556</td>\n",
       "    </tr>\n",
       "    <tr>\n",
       "      <th>2</th>\n",
       "      <td>جنوبية شرقية</td>\n",
       "      <td>7</td>\n",
       "      <td>2.0</td>\n",
       "      <td>5</td>\n",
       "      <td>15.0</td>\n",
       "      <td>1.0</td>\n",
       "      <td>31.0</td>\n",
       "      <td>1.0</td>\n",
       "      <td>0.0</td>\n",
       "      <td>1.0</td>\n",
       "      <td>...</td>\n",
       "      <td>0.0</td>\n",
       "      <td>1.0</td>\n",
       "      <td>0.0</td>\n",
       "      <td>0.0</td>\n",
       "      <td>0.0</td>\n",
       "      <td>0.0</td>\n",
       "      <td>الشفا</td>\n",
       "      <td>جنوب الرياض</td>\n",
       "      <td>2000000.0</td>\n",
       "      <td>2285.714286</td>\n",
       "    </tr>\n",
       "    <tr>\n",
       "      <th>3</th>\n",
       "      <td>غربية</td>\n",
       "      <td>7</td>\n",
       "      <td>3.0</td>\n",
       "      <td>5</td>\n",
       "      <td>15.0</td>\n",
       "      <td>1.0</td>\n",
       "      <td>3.0</td>\n",
       "      <td>0.0</td>\n",
       "      <td>1.0</td>\n",
       "      <td>1.0</td>\n",
       "      <td>...</td>\n",
       "      <td>0.0</td>\n",
       "      <td>1.0</td>\n",
       "      <td>0.0</td>\n",
       "      <td>1.0</td>\n",
       "      <td>0.0</td>\n",
       "      <td>0.0</td>\n",
       "      <td>ظهرة لبن</td>\n",
       "      <td>غرب الرياض</td>\n",
       "      <td>894000.0</td>\n",
       "      <td>4470.000000</td>\n",
       "    </tr>\n",
       "    <tr>\n",
       "      <th>4</th>\n",
       "      <td>شمالية</td>\n",
       "      <td>4</td>\n",
       "      <td>2.0</td>\n",
       "      <td>4</td>\n",
       "      <td>25.0</td>\n",
       "      <td>1.0</td>\n",
       "      <td>0.0</td>\n",
       "      <td>1.0</td>\n",
       "      <td>1.0</td>\n",
       "      <td>1.0</td>\n",
       "      <td>...</td>\n",
       "      <td>3.0</td>\n",
       "      <td>1.0</td>\n",
       "      <td>1.0</td>\n",
       "      <td>1.0</td>\n",
       "      <td>0.0</td>\n",
       "      <td>0.0</td>\n",
       "      <td>قرطبة</td>\n",
       "      <td>شرق الرياض</td>\n",
       "      <td>3500000.0</td>\n",
       "      <td>8750.000000</td>\n",
       "    </tr>\n",
       "  </tbody>\n",
       "</table>\n",
       "<p>5 rows × 25 columns</p>\n",
       "</div>"
      ],
      "text/plain": [
       "          front  rooms  lounges  bathrooms  streetWidth  stairs  propertyAge  \\\n",
       "0         شرقية      5      4.0          5         20.0     1.0          0.0   \n",
       "1         غربية      4      3.0          5         20.0     1.0          0.0   \n",
       "2  جنوبية شرقية      7      2.0          5         15.0     1.0         31.0   \n",
       "3         غربية      7      3.0          5         15.0     1.0          3.0   \n",
       "4        شمالية      4      2.0          4         25.0     1.0          0.0   \n",
       "\n",
       "   driverRoom  tent  patio  ...  apartments  maidRoom  elevator  furnihsed  \\\n",
       "0         1.0   1.0    1.0  ...         0.0       0.0       0.0        0.0   \n",
       "1         1.0   1.0    1.0  ...         2.0       1.0       1.0        0.0   \n",
       "2         1.0   0.0    1.0  ...         0.0       1.0       0.0        0.0   \n",
       "3         0.0   1.0    1.0  ...         0.0       1.0       0.0        1.0   \n",
       "4         1.0   1.0    1.0  ...         3.0       1.0       1.0        1.0   \n",
       "\n",
       "   pool  basement  neighbourhood     location      price  square price  \n",
       "0   0.0       0.0          عكاظ   جنوب الرياض  1050000.0   3500.000000  \n",
       "1   0.0       0.0       المهدية    غرب الرياض  3000000.0   5555.555556  \n",
       "2   0.0       0.0         الشفا   جنوب الرياض  2000000.0   2285.714286  \n",
       "3   0.0       0.0      ظهرة لبن    غرب الرياض   894000.0   4470.000000  \n",
       "4   0.0       0.0         قرطبة    شرق الرياض  3500000.0   8750.000000  \n",
       "\n",
       "[5 rows x 25 columns]"
      ]
     },
     "execution_count": 16,
     "metadata": {},
     "output_type": "execute_result"
    }
   ],
   "source": [
    "df.head()"
   ]
  },
  {
   "cell_type": "code",
   "execution_count": 17,
   "id": "2641f3c2-81a2-41a0-9cf2-bd7472694c5a",
   "metadata": {},
   "outputs": [
    {
     "data": {
      "text/plain": [
       "front               0\n",
       "rooms               0\n",
       "lounges          1118\n",
       "bathrooms           0\n",
       "streetWidth       190\n",
       "stairs              0\n",
       "propertyAge         0\n",
       "driverRoom          0\n",
       "tent                0\n",
       "patio               0\n",
       "kitchen             0\n",
       "outdoorRoom         0\n",
       "garage              0\n",
       "duplex              0\n",
       "space               0\n",
       "apartments          0\n",
       "maidRoom            0\n",
       "elevator            0\n",
       "furnihsed           0\n",
       "pool                0\n",
       "basement            0\n",
       "neighbourhood       0\n",
       "location            0\n",
       "price               2\n",
       "square price        2\n",
       "dtype: int64"
      ]
     },
     "execution_count": 17,
     "metadata": {},
     "output_type": "execute_result"
    }
   ],
   "source": [
    "df.isnull().sum()"
   ]
  },
  {
   "cell_type": "code",
   "execution_count": 18,
   "id": "dfd5a748-af90-4f03-bb6f-62fa881526bd",
   "metadata": {},
   "outputs": [
    {
     "data": {
      "text/plain": [
       "lounges\n",
       "2.0    19719\n",
       "3.0    12992\n",
       "1.0     7996\n",
       "4.0     2832\n",
       "5.0     2156\n",
       "7.0       13\n",
       "Name: count, dtype: int64"
      ]
     },
     "execution_count": 18,
     "metadata": {},
     "output_type": "execute_result"
    }
   ],
   "source": [
    "df['lounges'].value_counts()"
   ]
  },
  {
   "cell_type": "code",
   "execution_count": 21,
   "id": "50a08b1c-9620-4ef1-9e53-8db3130b12ee",
   "metadata": {},
   "outputs": [
    {
     "data": {
      "text/plain": [
       "<Axes: ylabel='Frequency'>"
      ]
     },
     "execution_count": 21,
     "metadata": {},
     "output_type": "execute_result"
    },
    {
     "data": {
      "image/png": "[encoded data removed]",
      "text/plain": [
       "<Figure size 640x480 with 1 Axes>"
      ]
     },
     "metadata": {},
     "output_type": "display_data"
    }
   ],
   "source": [
    "df['lounges'].plot(kind=\"hist\")"
   ]
  },
  {
   "cell_type": "code",
   "execution_count": 23,
   "id": "8cedbd4f-67ad-4113-814c-bfc37fcd273e",
   "metadata": {},
   "outputs": [
    {
     "data": {
      "text/plain": [
       "2"
      ]
     },
     "execution_count": 23,
     "metadata": {},
     "output_type": "execute_result"
    }
   ],
   "source": [
    "lounge=round(df['lounges'].mean())\n",
    "lounge"
   ]
  },
  {
   "cell_type": "code",
   "execution_count": 27,
   "id": "ea8e81b0-f82c-4904-a8a0-204dab49dd5a",
   "metadata": {},
   "outputs": [],
   "source": [
    "df['lounges'] = df['lounges'].fillna(lounge)"
   ]
  },
  {
   "cell_type": "code",
   "execution_count": 28,
   "id": "c903882a-fc55-4a44-93b5-856bbfac433e",
   "metadata": {},
   "outputs": [
    {
     "data": {
      "text/plain": [
       "front              0\n",
       "rooms              0\n",
       "lounges            0\n",
       "bathrooms          0\n",
       "streetWidth      190\n",
       "stairs             0\n",
       "propertyAge        0\n",
       "driverRoom         0\n",
       "tent               0\n",
       "patio              0\n",
       "kitchen            0\n",
       "outdoorRoom        0\n",
       "garage             0\n",
       "duplex             0\n",
       "space              0\n",
       "apartments         0\n",
       "maidRoom           0\n",
       "elevator           0\n",
       "furnihsed          0\n",
       "pool               0\n",
       "basement           0\n",
       "neighbourhood      0\n",
       "location           0\n",
       "price              2\n",
       "square price       2\n",
       "dtype: int64"
      ]
     },
     "execution_count": 28,
     "metadata": {},
     "output_type": "execute_result"
    }
   ],
   "source": [
    "df.isnull().sum()"
   ]
  },
  {
   "cell_type": "code",
   "execution_count": 29,
   "id": "874d4f41-a08e-48eb-8d29-86903b2ec885",
   "metadata": {},
   "outputs": [
    {
     "data": {
      "text/plain": [
       "<Axes: ylabel='Frequency'>"
      ]
     },
     "execution_count": 29,
     "metadata": {},
     "output_type": "execute_result"
    },
    {
     "data": {
      "image/png": "[encoded data removed]",
      "text/plain": [
       "<Figure size 640x480 with 1 Axes>"
      ]
     },
     "metadata": {},
     "output_type": "display_data"
    }
   ],
   "source": [
    "df['lounges'].plot(kind=\"hist\")"
   ]
  },
  {
   "cell_type": "code",
   "execution_count": 39,
   "id": "d4f3fafa-6d6c-4b18-a37e-f284a8b443d1",
   "metadata": {},
   "outputs": [
    {
     "data": {
      "text/plain": [
       "18"
      ]
     },
     "execution_count": 39,
     "metadata": {},
     "output_type": "execute_result"
    }
   ],
   "source": [
    "street = round(df['streetWidth'].mean())\n",
    "street"
   ]
  },
  {
   "cell_type": "code",
   "execution_count": 37,
   "id": "b4093139-ead1-4ec5-befc-a4d678100822",
   "metadata": {},
   "outputs": [
    {
     "data": {
      "text/plain": [
       "<Axes: ylabel='Frequency'>"
      ]
     },
     "execution_count": 37,
     "metadata": {},
     "output_type": "execute_result"
    },
    {
     "data": {
      "image/png": "[encoded data removed]",
      "text/plain": [
       "<Figure size 640x480 with 1 Axes>"
      ]
     },
     "metadata": {},
     "output_type": "display_data"
    }
   ],
   "source": [
    "df['streetWidth'].plot(kind=\"hist\")"
   ]
  },
  {
   "cell_type": "code",
   "execution_count": 40,
   "id": "96d9d1d2-50c5-461f-b13d-a7bd1e024dfb",
   "metadata": {},
   "outputs": [],
   "source": [
    "df['streetWidth'] = df['streetWidth'].fillna(street)"
   ]
  },
  {
   "cell_type": "code",
   "execution_count": 41,
   "id": "7ed8e696-dbc8-4b88-a7e5-e293d693c97d",
   "metadata": {},
   "outputs": [
    {
     "data": {
      "text/plain": [
       "front            0\n",
       "rooms            0\n",
       "lounges          0\n",
       "bathrooms        0\n",
       "streetWidth      0\n",
       "stairs           0\n",
       "propertyAge      0\n",
       "driverRoom       0\n",
       "tent             0\n",
       "patio            0\n",
       "kitchen          0\n",
       "outdoorRoom      0\n",
       "garage           0\n",
       "duplex           0\n",
       "space            0\n",
       "apartments       0\n",
       "maidRoom         0\n",
       "elevator         0\n",
       "furnihsed        0\n",
       "pool             0\n",
       "basement         0\n",
       "neighbourhood    0\n",
       "location         0\n",
       "price            2\n",
       "square price     2\n",
       "dtype: int64"
      ]
     },
     "execution_count": 41,
     "metadata": {},
     "output_type": "execute_result"
    }
   ],
   "source": [
    "df.isnull().sum()"
   ]
  },
  {
   "cell_type": "code",
   "execution_count": 42,
   "id": "a2837090-3311-4ee0-b060-6fd5e81a91dc",
   "metadata": {},
   "outputs": [
    {
     "data": {
      "text/plain": [
       "<Axes: ylabel='Frequency'>"
      ]
     },
     "execution_count": 42,
     "metadata": {},
     "output_type": "execute_result"
    },
    {
     "data": {
      "image/png": "[encoded data removed]",
      "text/plain": [
       "<Figure size 640x480 with 1 Axes>"
      ]
     },
     "metadata": {},
     "output_type": "display_data"
    }
   ],
   "source": [
    "df['streetWidth'].plot(kind=\"hist\")"
   ]
  },
  {
   "cell_type": "code",
   "execution_count": 43,
   "id": "344a9171-4cd4-4716-9881-c8c8524701db",
   "metadata": {},
   "outputs": [
    {
     "data": {
      "text/plain": [
       "2347636"
      ]
     },
     "execution_count": 43,
     "metadata": {},
     "output_type": "execute_result"
    }
   ],
   "source": [
    "cost = round(df['price'].mean())\n",
    "cost"
   ]
  },
  {
   "cell_type": "code",
   "execution_count": 44,
   "id": "2bab32f6-53d4-49a2-8974-718314d6cfb5",
   "metadata": {},
   "outputs": [],
   "source": [
    "df['price'] = df['price'].fillna(cost)"
   ]
  },
  {
   "cell_type": "code",
   "execution_count": 45,
   "id": "48693a10-5073-45bd-9a2e-4bf28bb6e7eb",
   "metadata": {},
   "outputs": [
    {
     "data": {
      "text/plain": [
       "6088"
      ]
     },
     "execution_count": 45,
     "metadata": {},
     "output_type": "execute_result"
    }
   ],
   "source": [
    "square_price = round(df['square price'].mean())\n",
    "square_price"
   ]
  },
  {
   "cell_type": "code",
   "execution_count": 46,
   "id": "0cd5ccdf-af7e-46c4-be84-092cadb4a92a",
   "metadata": {},
   "outputs": [],
   "source": [
    "df['square price'] = df['square price'].fillna(square_price)"
   ]
  },
  {
   "cell_type": "code",
   "execution_count": 47,
   "id": "aa801534-e969-4640-9624-66852fcced2a",
   "metadata": {},
   "outputs": [
    {
     "data": {
      "text/plain": [
       "front            0\n",
       "rooms            0\n",
       "lounges          0\n",
       "bathrooms        0\n",
       "streetWidth      0\n",
       "stairs           0\n",
       "propertyAge      0\n",
       "driverRoom       0\n",
       "tent             0\n",
       "patio            0\n",
       "kitchen          0\n",
       "outdoorRoom      0\n",
       "garage           0\n",
       "duplex           0\n",
       "space            0\n",
       "apartments       0\n",
       "maidRoom         0\n",
       "elevator         0\n",
       "furnihsed        0\n",
       "pool             0\n",
       "basement         0\n",
       "neighbourhood    0\n",
       "location         0\n",
       "price            0\n",
       "square price     0\n",
       "dtype: int64"
      ]
     },
     "execution_count": 47,
     "metadata": {},
     "output_type": "execute_result"
    }
   ],
   "source": [
    "df.isnull().sum()"
   ]
  },
  {
   "cell_type": "code",
   "execution_count": 48,
   "id": "1931c6a7-d6d4-42d7-841b-bc55178869f4",
   "metadata": {},
   "outputs": [
    {
     "data": {
      "text/plain": [
       "neighbourhood\n",
       " طويق             7775\n",
       " الرمال           4141\n",
       " عكاظ             3224\n",
       " النرجس           3151\n",
       " بدر              2718\n",
       "                  ... \n",
       "ى محمد يى الش        1\n",
       "رة النوبة            1\n",
       " البرية              1\n",
       " المرقب              1\n",
       "اص                   1\n",
       "Name: count, Length: 295, dtype: int64"
      ]
     },
     "execution_count": 48,
     "metadata": {},
     "output_type": "execute_result"
    }
   ],
   "source": [
    "df['neighbourhood'].value_counts()"
   ]
  },
  {
   "cell_type": "code",
   "execution_count": 54,
   "id": "4c4222a2-742c-49c0-894e-4cd0c9672db6",
   "metadata": {},
   "outputs": [
    {
     "name": "stderr",
     "output_type": "stream",
     "text": [
      "C:\\Users\\محمد الزيداني\\AppData\\Local\\Temp\\ipykernel_7616\\2187491855.py:1: UserWarning: Boolean Series key will be reindexed to match DataFrame index.\n",
      "  to_drop = df[df['neighbourhood'].value_counts() <= 1]\n"
     ]
    },
    {
     "ename": "IndexingError",
     "evalue": "Unalignable boolean Series provided as indexer (index of the boolean Series and of the indexed object do not match).",
     "output_type": "error",
     "traceback": [
      "\u001b[1;31m---------------------------------------------------------------------------\u001b[0m",
      "\u001b[1;31mIndexingError\u001b[0m                             Traceback (most recent call last)",
      "Cell \u001b[1;32mIn[54], line 1\u001b[0m\n\u001b[1;32m----> 1\u001b[0m to_drop \u001b[38;5;241m=\u001b[39m \u001b[43mdf\u001b[49m\u001b[43m[\u001b[49m\u001b[43mdf\u001b[49m\u001b[43m[\u001b[49m\u001b[38;5;124;43m'\u001b[39;49m\u001b[38;5;124;43mneighbourhood\u001b[39;49m\u001b[38;5;124;43m'\u001b[39;49m\u001b[43m]\u001b[49m\u001b[38;5;241;43m.\u001b[39;49m\u001b[43mvalue_counts\u001b[49m\u001b[43m(\u001b[49m\u001b[43m)\u001b[49m\u001b[43m \u001b[49m\u001b[38;5;241;43m<\u001b[39;49m\u001b[38;5;241;43m=\u001b[39;49m\u001b[43m \u001b[49m\u001b[38;5;241;43m1\u001b[39;49m\u001b[43m]\u001b[49m\n",
      "File \u001b[1;32m~\\AppData\\Local\\Programs\\Python\\Python39\\lib\\site-packages\\pandas\\core\\frame.py:3752\u001b[0m, in \u001b[0;36mDataFrame.__getitem__\u001b[1;34m(self, key)\u001b[0m\n\u001b[0;32m   3750\u001b[0m \u001b[38;5;66;03m# Do we have a (boolean) 1d indexer?\u001b[39;00m\n\u001b[0;32m   3751\u001b[0m \u001b[38;5;28;01mif\u001b[39;00m com\u001b[38;5;241m.\u001b[39mis_bool_indexer(key):\n\u001b[1;32m-> 3752\u001b[0m     \u001b[38;5;28;01mreturn\u001b[39;00m \u001b[38;5;28;43mself\u001b[39;49m\u001b[38;5;241;43m.\u001b[39;49m\u001b[43m_getitem_bool_array\u001b[49m\u001b[43m(\u001b[49m\u001b[43mkey\u001b[49m\u001b[43m)\u001b[49m\n\u001b[0;32m   3754\u001b[0m \u001b[38;5;66;03m# We are left with two options: a single key, and a collection of keys,\u001b[39;00m\n\u001b[0;32m   3755\u001b[0m \u001b[38;5;66;03m# We interpret tuples as collections only for non-MultiIndex\u001b[39;00m\n\u001b[0;32m   3756\u001b[0m is_single_key \u001b[38;5;241m=\u001b[39m \u001b[38;5;28misinstance\u001b[39m(key, \u001b[38;5;28mtuple\u001b[39m) \u001b[38;5;129;01mor\u001b[39;00m \u001b[38;5;129;01mnot\u001b[39;00m is_list_like(key)\n",
      "File \u001b[1;32m~\\AppData\\Local\\Programs\\Python\\Python39\\lib\\site-packages\\pandas\\core\\frame.py:3805\u001b[0m, in \u001b[0;36mDataFrame._getitem_bool_array\u001b[1;34m(self, key)\u001b[0m\n\u001b[0;32m   3799\u001b[0m     \u001b[38;5;28;01mraise\u001b[39;00m \u001b[38;5;167;01mValueError\u001b[39;00m(\n\u001b[0;32m   3800\u001b[0m         \u001b[38;5;124mf\u001b[39m\u001b[38;5;124m\"\u001b[39m\u001b[38;5;124mItem wrong length \u001b[39m\u001b[38;5;132;01m{\u001b[39;00m\u001b[38;5;28mlen\u001b[39m(key)\u001b[38;5;132;01m}\u001b[39;00m\u001b[38;5;124m instead of \u001b[39m\u001b[38;5;132;01m{\u001b[39;00m\u001b[38;5;28mlen\u001b[39m(\u001b[38;5;28mself\u001b[39m\u001b[38;5;241m.\u001b[39mindex)\u001b[38;5;132;01m}\u001b[39;00m\u001b[38;5;124m.\u001b[39m\u001b[38;5;124m\"\u001b[39m\n\u001b[0;32m   3801\u001b[0m     )\n\u001b[0;32m   3803\u001b[0m \u001b[38;5;66;03m# check_bool_indexer will throw exception if Series key cannot\u001b[39;00m\n\u001b[0;32m   3804\u001b[0m \u001b[38;5;66;03m# be reindexed to match DataFrame rows\u001b[39;00m\n\u001b[1;32m-> 3805\u001b[0m key \u001b[38;5;241m=\u001b[39m \u001b[43mcheck_bool_indexer\u001b[49m\u001b[43m(\u001b[49m\u001b[38;5;28;43mself\u001b[39;49m\u001b[38;5;241;43m.\u001b[39;49m\u001b[43mindex\u001b[49m\u001b[43m,\u001b[49m\u001b[43m \u001b[49m\u001b[43mkey\u001b[49m\u001b[43m)\u001b[49m\n\u001b[0;32m   3807\u001b[0m \u001b[38;5;28;01mif\u001b[39;00m key\u001b[38;5;241m.\u001b[39mall():\n\u001b[0;32m   3808\u001b[0m     \u001b[38;5;28;01mreturn\u001b[39;00m \u001b[38;5;28mself\u001b[39m\u001b[38;5;241m.\u001b[39mcopy(deep\u001b[38;5;241m=\u001b[39m\u001b[38;5;28;01mNone\u001b[39;00m)\n",
      "File \u001b[1;32m~\\AppData\\Local\\Programs\\Python\\Python39\\lib\\site-packages\\pandas\\core\\indexing.py:2506\u001b[0m, in \u001b[0;36mcheck_bool_indexer\u001b[1;34m(index, key)\u001b[0m\n\u001b[0;32m   2504\u001b[0m indexer \u001b[38;5;241m=\u001b[39m result\u001b[38;5;241m.\u001b[39mindex\u001b[38;5;241m.\u001b[39mget_indexer_for(index)\n\u001b[0;32m   2505\u001b[0m \u001b[38;5;28;01mif\u001b[39;00m \u001b[38;5;241m-\u001b[39m\u001b[38;5;241m1\u001b[39m \u001b[38;5;129;01min\u001b[39;00m indexer:\n\u001b[1;32m-> 2506\u001b[0m     \u001b[38;5;28;01mraise\u001b[39;00m IndexingError(\n\u001b[0;32m   2507\u001b[0m         \u001b[38;5;124m\"\u001b[39m\u001b[38;5;124mUnalignable boolean Series provided as \u001b[39m\u001b[38;5;124m\"\u001b[39m\n\u001b[0;32m   2508\u001b[0m         \u001b[38;5;124m\"\u001b[39m\u001b[38;5;124mindexer (index of the boolean Series and of \u001b[39m\u001b[38;5;124m\"\u001b[39m\n\u001b[0;32m   2509\u001b[0m         \u001b[38;5;124m\"\u001b[39m\u001b[38;5;124mthe indexed object do not match).\u001b[39m\u001b[38;5;124m\"\u001b[39m\n\u001b[0;32m   2510\u001b[0m     )\n\u001b[0;32m   2512\u001b[0m result \u001b[38;5;241m=\u001b[39m result\u001b[38;5;241m.\u001b[39mtake(indexer)\n\u001b[0;32m   2514\u001b[0m \u001b[38;5;66;03m# fall through for boolean\u001b[39;00m\n",
      "\u001b[1;31mIndexingError\u001b[0m: Unalignable boolean Series provided as indexer (index of the boolean Series and of the indexed object do not match)."
     ]
    }
   ],
   "source": [
    "to_drop = df[df['neighbourhood'].value_counts() <= 1]"
   ]
  },
  {
   "cell_type": "code",
   "execution_count": null,
   "id": "c93c07b7-29e6-4f25-bf96-5ef38b4ee1f5",
   "metadata": {},
   "outputs": [],
   "source": []
  }
 ],
 "metadata": {
  "kernelspec": {
   "display_name": "Python 3 (ipykernel)",
   "language": "python",
   "name": "python3"
  },
  "language_info": {
   "codemirror_mode": {
    "name": "ipython",
    "version": 3
   },
   "file_extension": ".py",
   "mimetype": "text/x-python",
   "name": "python",
   "nbconvert_exporter": "python",
   "pygments_lexer": "ipython3",
   "version": "3.9.13"
  }
 },
 "nbformat": 4,
 "nbformat_minor": 5
}
